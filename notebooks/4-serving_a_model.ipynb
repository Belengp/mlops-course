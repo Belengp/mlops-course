{
 "cells": [
  {
   "attachments": {},
   "cell_type": "markdown",
   "metadata": {},
   "source": [
    "# 👷 Serving a Model into Production"
   ]
  },
  {
   "cell_type": "markdown",
   "metadata": {},
   "source": [
    "### Import python libraries"
   ]
  },
  {
   "cell_type": "code",
   "execution_count": 1,
   "metadata": {},
   "outputs": [],
   "source": [
    "import mlflow\n",
    "import numpy as np\n",
    "from fastapi import FastAPI\n",
    "from pydantic import BaseModel"
   ]
  },
  {
   "attachments": {},
   "cell_type": "markdown",
   "metadata": {},
   "source": [
    "## Download model from MLFlow"
   ]
  },
  {
   "cell_type": "code",
   "execution_count": 2,
   "metadata": {},
   "outputs": [],
   "source": [
    "MLFLOW_URI = \"http://mlflow:5000\"\n",
    "MODEL_URI = \"models:/titanic-linear-regression/Staging\"\n",
    "\n",
    "\n",
    "# Load the MLflow model into memory\n",
    "mlflow.set_tracking_uri(uri=MLFLOW_URI)\n",
    "model = mlflow.pyfunc.load_model(model_uri=MODEL_URI)"
   ]
  },
  {
   "attachments": {},
   "cell_type": "markdown",
   "metadata": {},
   "source": [
    "## Create the API"
   ]
  },
  {
   "attachments": {},
   "cell_type": "markdown",
   "metadata": {},
   "source": [
    "### Define the API"
   ]
  },
  {
   "cell_type": "code",
   "execution_count": 3,
   "metadata": {},
   "outputs": [],
   "source": [
    "# Define the FastAPI app\n",
    "app = FastAPI()\n",
    "\n",
    "# Define the input data schema using Pydantic BaseModel\n",
    "class InputData(BaseModel):\n",
    "    sex: int\n",
    "    age: float\n",
    "    fare: float\n",
    "    embarked: int\n",
    "\n",
    "\n",
    "# Define the API endpoint\n",
    "@app.post('/predict')\n",
    "def predict(input_data: InputData):\n",
    "    # Process the input data\n",
    "    features = np.array([\n",
    "        input_data.sex,\n",
    "        input_data.age,\n",
    "        input_data.fare,\n",
    "        input_data.embarked\n",
    "    ]).reshape(1, -1)\n",
    "\n",
    "    # Use the MLflow model to perform inference\n",
    "    prediction = model.predict(features)\n",
    "\n",
    "    # Return the inference results\n",
    "    return {'prediction': prediction.tolist()}"
   ]
  },
  {
   "attachments": {},
   "cell_type": "markdown",
   "metadata": {},
   "source": [
    "### Launch the API"
   ]
  },
  {
   "cell_type": "code",
   "execution_count": null,
   "metadata": {},
   "outputs": [],
   "source": [
    "import uvicorn\n",
    "\n",
    "if __name__ == \"__main__\":\n",
    "    config = uvicorn.Config(app)\n",
    "    server = uvicorn.Server(config)\n",
    "    await server.serve()"
   ]
  }
 ],
 "metadata": {
  "kernelspec": {
   "display_name": "Python 3",
   "language": "python",
   "name": "python3"
  },
  "language_info": {
   "codemirror_mode": {
    "name": "ipython",
    "version": 3
   },
   "file_extension": ".py",
   "mimetype": "text/x-python",
   "name": "python",
   "nbconvert_exporter": "python",
   "pygments_lexer": "ipython3",
   "version": "3.9.16"
  },
  "orig_nbformat": 4
 },
 "nbformat": 4,
 "nbformat_minor": 2
}
