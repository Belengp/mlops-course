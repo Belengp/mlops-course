{
 "cells": [
  {
   "attachments": {},
   "cell_type": "markdown",
   "metadata": {},
   "source": [
    "# 📌 How to Register a model\n",
    "\n",
    "In this notebook, we will see how to **register a model in MLflow**. Registering a model is a way to keep track of the different versions of a model and its metadata. It is also a way to share the model with other people. When a model is registered a **new version is created**. The first version of a model is always version 1.\n"
   ]
  },
  {
   "attachments": {},
   "cell_type": "markdown",
   "metadata": {},
   "source": [
    "## 🔌 Connect to MLFlow Server"
   ]
  },
  {
   "cell_type": "code",
   "execution_count": 1,
   "metadata": {},
   "outputs": [
    {
     "name": "stdout",
     "output_type": "stream",
     "text": [
      "✅ Successfully connected to the MLflow server\n"
     ]
    }
   ],
   "source": [
    "import mlflow\n",
    "from mlops_course import config\n",
    "\n",
    "\n",
    "# Connect to the MLflow server\n",
    "mlflow.set_tracking_uri(uri=config.MLFLOW_TRACKING_URI)\n",
    "\n",
    "\n",
    "# test the connection\n",
    "try:\n",
    "    mlflow.search_experiments()\n",
    "    print(\"✅ Successfully connected to the MLflow server\")\n",
    "except Exception as e:\n",
    "    print(\"❌ Failed to connect to the MLflow server\")"
   ]
  },
  {
   "attachments": {},
   "cell_type": "markdown",
   "metadata": {},
   "source": [
    "## 🔍 Search a Run in an experiment\n",
    "\n",
    "We are going to register one of the models logged during a run in the Titanic experiment. We will use the `search_runs` method to find the run we want to register."
   ]
  },
  {
   "cell_type": "code",
   "execution_count": 2,
   "metadata": {},
   "outputs": [
    {
     "name": "stdout",
     "output_type": "stream",
     "text": [
      "✅ Experiment 'Titanic Linear Regression' already exists!\n"
     ]
    }
   ],
   "source": [
    "# Get the experiment name\n",
    "EXPERIMENT_NAME = \"Titanic Linear Regression\"  # change this to your experiment name\n",
    "\n",
    "\n",
    "# Create an experiment if it doesn't exist\n",
    "try:\n",
    "    experiment_id = mlflow.create_experiment(EXPERIMENT_NAME)\n",
    "    print(f\"✅ Created '{EXPERIMENT_NAME}'!\")\n",
    "except mlflow.exceptions.RestException:\n",
    "    experiment_id = mlflow.get_experiment_by_name(EXPERIMENT_NAME).experiment_id\n",
    "    print(f\"✅ Experiment '{EXPERIMENT_NAME}' already exists!\")\n",
    "\n",
    "experiment = mlflow.get_experiment(experiment_id)"
   ]
  },
  {
   "cell_type": "code",
   "execution_count": 3,
   "metadata": {},
   "outputs": [
    {
     "name": "stdout",
     "output_type": "stream",
     "text": [
      "✅ Using run_id 'eb4efd94f17247579e56fd2649de5e15'!\n"
     ]
    }
   ],
   "source": [
    "runs = mlflow.search_runs(experiment_id)\n",
    "run_id = runs.iloc[0].run_id\n",
    "print(f\"✅ Using run_id '{run_id}'!\")"
   ]
  },
  {
   "attachments": {},
   "cell_type": "markdown",
   "metadata": {},
   "source": [
    "## 📝 Register a model"
   ]
  },
  {
   "cell_type": "code",
   "execution_count": 4,
   "metadata": {},
   "outputs": [
    {
     "name": "stderr",
     "output_type": "stream",
     "text": [
      "Registered model 'titanic-linear-regression' already exists. Creating a new version of this model...\n",
      "2023/05/16 19:05:22 INFO mlflow.tracking._model_registry.client: Waiting up to 300 seconds for model version to finish creation. Model name: titanic-linear-regression, version 5\n"
     ]
    },
    {
     "name": "stdout",
     "output_type": "stream",
     "text": [
      "✅ Registered model version: 5!\n"
     ]
    },
    {
     "name": "stderr",
     "output_type": "stream",
     "text": [
      "Created version '5' of model 'titanic-linear-regression'.\n"
     ]
    }
   ],
   "source": [
    "# register the model for this run\n",
    "MODEL_NAME = \"titanic-linear-regression\"  # change this to your model name\n",
    "\n",
    "result = mlflow.register_model(f\"runs:/{run_id}/model\", MODEL_NAME)\n",
    "print(f\"✅ Registered model version: {result.version}!\")"
   ]
  }
 ],
 "metadata": {
  "kernelspec": {
   "display_name": "Python 3",
   "language": "python",
   "name": "python3"
  },
  "language_info": {
   "codemirror_mode": {
    "name": "ipython",
    "version": 3
   },
   "file_extension": ".py",
   "mimetype": "text/x-python",
   "name": "python",
   "nbconvert_exporter": "python",
   "pygments_lexer": "ipython3",
   "version": "3.9.16"
  },
  "orig_nbformat": 4
 },
 "nbformat": 4,
 "nbformat_minor": 2
}
