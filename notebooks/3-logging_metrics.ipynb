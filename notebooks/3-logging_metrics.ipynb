{
 "cells": [
  {
   "attachments": {},
   "cell_type": "markdown",
   "metadata": {},
   "source": [
    "# 📏 Logging Metrics to MLFLOW"
   ]
  },
  {
   "attachments": {},
   "cell_type": "markdown",
   "metadata": {},
   "source": [
    "Metrics logging in ML using MLflow is like **keeping a record of important measurements** and numbers while training and evaluating a machine learning model. It's like taking notes on how well the model is performing and what factors are influencing its performance.\n",
    "\n",
    "By logging metrics, we can track and a**nalyze various aspects of the model's performance, such as accuracy, precision, recall, and others**. It's like keeping score to see how good the model is at making predictions. Logging metrics with MLflow allows us to store and organize these measurements in a structured way. It's like having a special notebook where we write down all the important information about the model's performance during training and evaluation."
   ]
  },
  {
   "attachments": {},
   "cell_type": "markdown",
   "metadata": {},
   "source": [
    "## 🔌 Connect to MLFlow"
   ]
  },
  {
   "cell_type": "code",
   "execution_count": 1,
   "metadata": {},
   "outputs": [
    {
     "name": "stdout",
     "output_type": "stream",
     "text": [
      "✅ Successfully connected to the MLflow server\n"
     ]
    }
   ],
   "source": [
    "import mlflow\n",
    "from mlops_course import config\n",
    "\n",
    "\n",
    "# Connect to the MLflow server\n",
    "mlflow.set_tracking_uri(uri=config.MLFLOW_TRACKING_URI)\n",
    "\n",
    "\n",
    "# test the connection\n",
    "try:\n",
    "    mlflow.search_experiments()\n",
    "    print(\"✅ Successfully connected to the MLflow server\")\n",
    "except Exception as e:\n",
    "    print(\"❌ Failed to connect to the MLflow server\")"
   ]
  },
  {
   "attachments": {},
   "cell_type": "markdown",
   "metadata": {},
   "source": [
    "## 🧪 Create (or load) and experiment"
   ]
  },
  {
   "cell_type": "code",
   "execution_count": 2,
   "metadata": {},
   "outputs": [
    {
     "name": "stdout",
     "output_type": "stream",
     "text": [
      "✅ Experiment 'mlflow-demo' already exists!\n"
     ]
    }
   ],
   "source": [
    "EXPERIMENT_NAME = \"mlflow-demo\"\n",
    "\n",
    "# Create an experiment if it doesn't exist\n",
    "try:\n",
    "    mlflow.create_experiment(EXPERIMENT_NAME)\n",
    "    print(f\"✅ Created '{EXPERIMENT_NAME}'!\")\n",
    "except mlflow.exceptions.RestException:\n",
    "    print(f\"✅ Experiment '{EXPERIMENT_NAME}' already exists!\")"
   ]
  },
  {
   "attachments": {},
   "cell_type": "markdown",
   "metadata": {},
   "source": [
    "## ✍️  Logging tags, parameters and metrics"
   ]
  },
  {
   "cell_type": "code",
   "execution_count": 3,
   "metadata": {},
   "outputs": [
    {
     "name": "stdout",
     "output_type": "stream",
     "text": [
      "Run ID: 9c4d938d17c546b69a7481987ec81856\n"
     ]
    }
   ],
   "source": [
    "from datetime import datetime\n",
    "\n",
    "\n",
    "experiment_id = mlflow.get_experiment_by_name(EXPERIMENT_NAME).experiment_id\n",
    "run_name = datetime.now().strftime(\"%Y-%m-%d %H:%M:%S\")\n",
    "\n",
    "with mlflow.start_run(\n",
    "    experiment_id=experiment_id,\n",
    "    run_name=run_name,\n",
    ") as run:\n",
    "    \n",
    "    # set the tags\n",
    "    mlflow.set_tags({\n",
    "        \"model_type\": \"linear-regression\",\n",
    "        \"author\": \"mlops-course\",\n",
    "    })\n",
    "    \n",
    "    # Log a parameter (key-value pair)\n",
    "    # Log the model parameters\n",
    "    mlflow.log_param(\"random_seed\", 42)\n",
    "    mlflow.log_param(\"train_size\", 0.7)\n",
    "\n",
    "    # Model training code here ...\n",
    "\n",
    "    # Log a metric; metrics can be updated throughout the run\n",
    "    mlflow.log_metric(\"precision\", 0.92)\n",
    "    mlflow.log_metric(\"recall\", 0.96)\n",
    "\n",
    "    # Print the run ID\n",
    "    print(f\"Run ID: {run.info.run_id}\")"
   ]
  }
 ],
 "metadata": {
  "kernelspec": {
   "display_name": "Python 3",
   "language": "python",
   "name": "python3"
  },
  "language_info": {
   "codemirror_mode": {
    "name": "ipython",
    "version": 3
   },
   "file_extension": ".py",
   "mimetype": "text/x-python",
   "name": "python",
   "nbconvert_exporter": "python",
   "pygments_lexer": "ipython3",
   "version": "3.9.16"
  },
  "orig_nbformat": 4
 },
 "nbformat": 4,
 "nbformat_minor": 2
}
