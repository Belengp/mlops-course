{
 "cells": [
  {
   "attachments": {},
   "cell_type": "markdown",
   "metadata": {},
   "source": [
    "# 🏷️ Transitioning a Model from development to production\n",
    "\n",
    "Once a model is registered (we have a new version of it: 1, 2, 3...) we can transition it from development to production. This means that we can tell MLflow that we want to use a specific version of the model for production. This way we can keep developing new versions of the model and testing them, while the production version is still being used by the API."
   ]
  },
  {
   "attachments": {},
   "cell_type": "markdown",
   "metadata": {},
   "source": [
    "## 🔌 Connect to MLFlow Server"
   ]
  },
  {
   "cell_type": "code",
   "execution_count": 1,
   "metadata": {},
   "outputs": [
    {
     "name": "stdout",
     "output_type": "stream",
     "text": [
      "✅ Successfully connected to the MLflow server\n"
     ]
    }
   ],
   "source": [
    "import mlflow\n",
    "from mlops_course import config\n",
    "\n",
    "\n",
    "# Connect to the MLflow server\n",
    "mlflow.set_tracking_uri(uri=config.MLFLOW_TRACKING_URI)\n",
    "\n",
    "\n",
    "# test the connection\n",
    "try:\n",
    "    mlflow.search_experiments()\n",
    "    print(\"✅ Successfully connected to the MLflow server\")\n",
    "except Exception as e:\n",
    "    print(\"❌ Failed to connect to the MLflow server\")"
   ]
  },
  {
   "attachments": {},
   "cell_type": "markdown",
   "metadata": {},
   "source": [
    "## 🏷️ Select a specific version for production"
   ]
  },
  {
   "cell_type": "code",
   "execution_count": 2,
   "metadata": {},
   "outputs": [
    {
     "name": "stdout",
     "output_type": "stream",
     "text": [
      "Production\n"
     ]
    }
   ],
   "source": [
    "MODEL_NAME = \"titanic-linear-regression\"  # change this to your model name\n",
    "MODEL_VERSION = 1  # change this to the version of your model\n",
    "MODEL_STAGE = \"Production\"  # change this to the stage of your model\n",
    "\n",
    "# stage model\n",
    "client = mlflow.MlflowClient()\n",
    "info = client.transition_model_version_stage(\n",
    "    name=MODEL_NAME,\n",
    "    version=MODEL_VERSION,\n",
    "    stage=MODEL_STAGE\n",
    ")\n",
    "print(info.current_stage)"
   ]
  }
 ],
 "metadata": {
  "kernelspec": {
   "display_name": "Python 3",
   "language": "python",
   "name": "python3"
  },
  "language_info": {
   "codemirror_mode": {
    "name": "ipython",
    "version": 3
   },
   "file_extension": ".py",
   "mimetype": "text/x-python",
   "name": "python",
   "nbconvert_exporter": "python",
   "pygments_lexer": "ipython3",
   "version": "3.9.16"
  },
  "orig_nbformat": 4
 },
 "nbformat": 4,
 "nbformat_minor": 2
}
