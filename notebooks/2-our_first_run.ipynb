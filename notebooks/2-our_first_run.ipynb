{
 "cells": [
  {
   "attachments": {},
   "cell_type": "markdown",
   "metadata": {},
   "source": [
    "# 🏃‍♀️ Our Firts Run\n",
    "\n",
    "Think of a **run in MLflow as a snapshot** or a record of a specific machine learning experiment or trial. It's like taking a picture of your work at a particular moment.\n",
    "\n",
    "When you start a run, MLflow **captures** important details like the **settings you used**, the data you trained your model on, and the results you obtained. It keeps all this information organized in one place. This is helpful because **it allows you to easily compare different runs** and see how changes in your code, data, or parameters affect the results. You can track metrics like accuracy or loss, save models, and even attach other files or images as part of the run."
   ]
  },
  {
   "attachments": {},
   "cell_type": "markdown",
   "metadata": {},
   "source": [
    "## 🔌 Connect to MLFlow"
   ]
  },
  {
   "cell_type": "code",
   "execution_count": 1,
   "metadata": {},
   "outputs": [
    {
     "name": "stdout",
     "output_type": "stream",
     "text": [
      "✅ Successfully connected to the MLflow server\n"
     ]
    }
   ],
   "source": [
    "import mlflow\n",
    "from mlops_course import config\n",
    "\n",
    "\n",
    "# Connect to the MLflow server\n",
    "mlflow.set_tracking_uri(uri=config.MLFLOW_TRACKING_URI)\n",
    "\n",
    "\n",
    "# test the connection\n",
    "try:\n",
    "    mlflow.search_experiments()\n",
    "    print(\"✅ Successfully connected to the MLflow server\")\n",
    "except Exception as e:\n",
    "    print(\"❌ Failed to connect to the MLflow server\")"
   ]
  },
  {
   "attachments": {},
   "cell_type": "markdown",
   "metadata": {},
   "source": [
    "## 🧪 Create (or load) and experiment"
   ]
  },
  {
   "cell_type": "code",
   "execution_count": 2,
   "metadata": {},
   "outputs": [
    {
     "name": "stdout",
     "output_type": "stream",
     "text": [
      "✅ Experiment 'mlflow-demo' already exists!\n"
     ]
    }
   ],
   "source": [
    "\n",
    "EXPERIMENT_NAME = \"mlflow-demo\"\n",
    "\n",
    "# Create an experiment if it doesn't exist\n",
    "try:\n",
    "    mlflow.create_experiment(EXPERIMENT_NAME)\n",
    "    print(f\"✅ Created '{EXPERIMENT_NAME}'!\")\n",
    "except mlflow.exceptions.RestException:\n",
    "    print(f\"✅ Experiment '{EXPERIMENT_NAME}' already exists!\")"
   ]
  },
  {
   "attachments": {},
   "cell_type": "markdown",
   "metadata": {},
   "source": [
    "## ✨ Create a run"
   ]
  },
  {
   "cell_type": "code",
   "execution_count": 3,
   "metadata": {},
   "outputs": [
    {
     "name": "stdout",
     "output_type": "stream",
     "text": [
      "🎉 Run ID: a2c89920c2b748549a27a757118310ad\n"
     ]
    }
   ],
   "source": [
    "# Get the experiment ID\n",
    "experiment_id = mlflow.get_experiment_by_name(EXPERIMENT_NAME).experiment_id\n",
    "RUN_NAME = \"run-1\"\n",
    "\n",
    "# Start a run\n",
    "with mlflow.start_run(\n",
    "    experiment_id=experiment_id,\n",
    "    run_name=RUN_NAME,  \n",
    ") as run:\n",
    "    \n",
    "    # Print the run ID\n",
    "    print(f\"🎉 Run ID: {run.info.run_id}\")"
   ]
  }
 ],
 "metadata": {
  "kernelspec": {
   "display_name": "Python 3",
   "language": "python",
   "name": "python3"
  },
  "language_info": {
   "codemirror_mode": {
    "name": "ipython",
    "version": 3
   },
   "file_extension": ".py",
   "mimetype": "text/x-python",
   "name": "python",
   "nbconvert_exporter": "python",
   "pygments_lexer": "ipython3",
   "version": "3.9.16"
  },
  "orig_nbformat": 4
 },
 "nbformat": 4,
 "nbformat_minor": 2
}
