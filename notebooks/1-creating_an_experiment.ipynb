{
 "cells": [
  {
   "attachments": {},
   "cell_type": "markdown",
   "metadata": {},
   "source": [
    "# 🧪 Create an Experiment"
   ]
  },
  {
   "attachments": {},
   "cell_type": "markdown",
   "metadata": {},
   "source": [
    "Think of an experiment as a dedicated workspace or a project folder where you can group related machine learning trials together. It provides a structured environment to explore different approaches, algorithms, and parameters for a specific problem.\n",
    "\n",
    "Within an experiment, you can conduct multiple runs. A run represents a specific execution or trial within that experiment, capturing details such as the code, parameters, metrics, and artifacts generated during that particular trial.\n",
    "\n",
    "By using experiments, you can organize your machine learning project into distinct categories or themes. For example, you might have separate experiments for different models, feature engineering techniques, or datasets. This allows you to easily compare the performance and results across various experiments and understand what works best for your specific problem."
   ]
  },
  {
   "attachments": {},
   "cell_type": "markdown",
   "metadata": {},
   "source": [
    "## 🔌 Connect to MLFlow Server"
   ]
  },
  {
   "cell_type": "code",
   "execution_count": 1,
   "metadata": {},
   "outputs": [
    {
     "name": "stdout",
     "output_type": "stream",
     "text": [
      "✅ Successfully connected to the MLflow server\n"
     ]
    }
   ],
   "source": [
    "import mlflow\n",
    "from mlops_course import config\n",
    "\n",
    "\n",
    "# Connect to the MLflow server\n",
    "mlflow.set_tracking_uri(uri=config.MLFLOW_TRACKING_URI)\n",
    "\n",
    "\n",
    "# test the connection\n",
    "try:\n",
    "    mlflow.search_experiments()\n",
    "    print(\"✅ Successfully connected to the MLflow server\")\n",
    "except Exception as e:\n",
    "    print(\"❌ Failed to connect to the MLflow server\")"
   ]
  },
  {
   "attachments": {},
   "cell_type": "markdown",
   "metadata": {},
   "source": [
    "## 🧪 Create an Experiment"
   ]
  },
  {
   "cell_type": "code",
   "execution_count": 2,
   "metadata": {},
   "outputs": [
    {
     "name": "stdout",
     "output_type": "stream",
     "text": [
      "✅ Experiment 'mlflow-demo' already exists!\n",
      "Name: mlflow-demo\n",
      "Experiment_id: 314987799062845966\n",
      "Artifact Location: mlflow-artifacts:/314987799062845966\n",
      "Tags: {}\n",
      "Lifecycle_stage: active\n"
     ]
    }
   ],
   "source": [
    "EXPERIMENT_NAME = \"mlflow-demo\"  # change this to your experiment name\n",
    "\n",
    "\n",
    "# Create an experiment if it doesn't exist\n",
    "try:\n",
    "    mlflow.create_experiment(EXPERIMENT_NAME)\n",
    "    print(f\"✅ Created '{EXPERIMENT_NAME}'!\")\n",
    "except mlflow.exceptions.RestException:\n",
    "    print(f\"✅ Experiment '{EXPERIMENT_NAME}' already exists!\")\n",
    "\n",
    "\n",
    "# Get the experiment\n",
    "experiment = mlflow.get_experiment_by_name(EXPERIMENT_NAME)\n",
    "\n",
    "\n",
    "# print the experiment details\n",
    "print(f\"Name: {experiment.name}\")\n",
    "print(f\"Experiment_id: {experiment.experiment_id}\")\n",
    "print(f\"Artifact Location: {experiment.artifact_location}\")\n",
    "print(f\"Tags: {experiment.tags}\")\n",
    "print(f\"Lifecycle_stage: {experiment.lifecycle_stage}\")"
   ]
  }
 ],
 "metadata": {
  "kernelspec": {
   "display_name": "Python 3",
   "language": "python",
   "name": "python3"
  },
  "language_info": {
   "codemirror_mode": {
    "name": "ipython",
    "version": 3
   },
   "file_extension": ".py",
   "mimetype": "text/x-python",
   "name": "python",
   "nbconvert_exporter": "python",
   "pygments_lexer": "ipython3",
   "version": "3.9.16"
  },
  "orig_nbformat": 4,
  "vscode": {
   "interpreter": {
    "hash": "949777d72b0d2535278d3dc13498b2535136f6dfe0678499012e853ee9abcab1"
   }
  }
 },
 "nbformat": 4,
 "nbformat_minor": 2
}
